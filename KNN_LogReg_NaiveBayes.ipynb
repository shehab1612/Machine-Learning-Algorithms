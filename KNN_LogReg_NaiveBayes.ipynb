{
 "cells": [
  {
   "cell_type": "markdown",
   "id": "8f87210c",
   "metadata": {},
   "source": [
    "# import any potentially needed libraries"
   ]
  },
  {
   "cell_type": "code",
   "execution_count": 237,
   "id": "53a2e7d3",
   "metadata": {},
   "outputs": [],
   "source": [
    "import numpy as np\n",
    "import matplotlib.pyplot as plt\n",
    "import pandas as pd\n",
    "from sklearn.model_selection import train_test_split\n",
    "from sklearn.neighbors import KNeighborsClassifier\n",
    "from sklearn.datasets import load_iris\n",
    "from sklearn.preprocessing import StandardScaler\n",
    "from sklearn.metrics import classification_report, confusion_matrix, accuracy_score\n",
    "from sklearn import preprocessing\n",
    "from sklearn.preprocessing import LabelEncoder\n",
    "from sklearn import metrics\n",
    "from sklearn.metrics import precision_score\n",
    "from sklearn.metrics import recall_score\n",
    "from sklearn.metrics import f1_score\n",
    "from sklearn.metrics import roc_curve\n",
    "from sklearn.metrics import roc_auc_score\n",
    "from sklearn.metrics import auc\n",
    "from sklearn.linear_model import LogisticRegression\n",
    "from sklearn.naive_bayes import GaussianNB\n",
    "from sklearn.model_selection import GridSearchCV"
   ]
  },
  {
   "cell_type": "markdown",
   "id": "00bc805c",
   "metadata": {},
   "source": [
    "# import our dataset"
   ]
  },
  {
   "cell_type": "code",
   "execution_count": 238,
   "id": "61115a49",
   "metadata": {},
   "outputs": [],
   "source": [
    "dataset = pd.read_csv(r\"C:\\Users\\Shehab\\Desktop\\data.csv\")"
   ]
  },
  {
   "cell_type": "markdown",
   "id": "3cea3336",
   "metadata": {},
   "source": [
    "# KNN WILL BE IMPLEMENTED FIRSTLY\n",
    "# the target (dependant) variable will be the 'result' column"
   ]
  },
  {
   "cell_type": "code",
   "execution_count": 240,
   "id": "30aaf397",
   "metadata": {},
   "outputs": [],
   "source": [
    "target = dataset.result"
   ]
  },
  {
   "cell_type": "markdown",
   "id": "c2a88633",
   "metadata": {},
   "source": [
    "# all other variables (all other columns) will be the independant variables"
   ]
  },
  {
   "cell_type": "code",
   "execution_count": 241,
   "id": "4b0bae17",
   "metadata": {},
   "outputs": [],
   "source": [
    "attributes = list(zip(dataset.location,\n",
    "                     dataset.country,\n",
    "                     dataset.gender,\n",
    "                     dataset.age,\n",
    "                     dataset.vis_wuhan,\n",
    "                     dataset.from_wuhan,\n",
    "                     dataset.symptom1,\n",
    "                     dataset.symptom2,\n",
    "                     dataset.symptom3,\n",
    "                     dataset.symptom4,\n",
    "                     dataset.symptom5,\n",
    "                     dataset.symptom6,\n",
    "                     dataset.diff_sym_hos))"
   ]
  },
  {
   "cell_type": "markdown",
   "id": "e0c2442c",
   "metadata": {},
   "source": [
    "# now we will split the dataset into training, validation and testing"
   ]
  },
  {
   "cell_type": "code",
   "execution_count": 207,
   "id": "16d30e4a",
   "metadata": {},
   "outputs": [],
   "source": [
    "target_train, target_test = train_test_split(target, test_size = 0.15, train_size = 0.85, random_state = 42, shuffle = True, stratify = None)\n",
    "attributes_train, attributes_test = train_test_split(attributes, test_size = 0.15, train_size = 0.85, random_state = 42, shuffle = True, stratify = None)"
   ]
  },
  {
   "cell_type": "markdown",
   "id": "ed5369c3",
   "metadata": {},
   "source": [
    "# now the data is split into training(85%) and testing(15%) only"
   ]
  },
  {
   "cell_type": "markdown",
   "id": "2d6cf636",
   "metadata": {},
   "source": [
    "# lets now split the training part into a smaller training part plus the validation part"
   ]
  },
  {
   "cell_type": "code",
   "execution_count": 208,
   "id": "0d5de006",
   "metadata": {},
   "outputs": [],
   "source": [
    "target_train, target_validate = train_test_split(target_train, test_size = 0.17645, random_state = 42, shuffle = True, stratify = None)\n",
    "attributes_train, attributes_validate = train_test_split(attributes_train, test_size = 0.17645, random_state = 42, shuffle = True, stratify = None)"
   ]
  },
  {
   "cell_type": "markdown",
   "id": "fe4b47ee",
   "metadata": {},
   "source": [
    "# now both training sets are 70%, both validations are 15% and both tests are 15%"
   ]
  },
  {
   "cell_type": "markdown",
   "id": "81026562",
   "metadata": {},
   "source": [
    "# scaling the data (because some of them have very wide ranges like the location while others are not, and this will result in bad outcomes from the KNN algorithm)"
   ]
  },
  {
   "cell_type": "code",
   "execution_count": 209,
   "id": "6f39d560",
   "metadata": {},
   "outputs": [],
   "source": [
    "scaler = StandardScaler()\n",
    "scaler.fit(attributes_train)\n",
    "attributes_train = scaler.transform(attributes_train)\n",
    "attributes_validate = scaler.transform(attributes_validate)\n",
    "attributes_test = scaler.transform(attributes_test)"
   ]
  },
  {
   "cell_type": "markdown",
   "id": "a351076c",
   "metadata": {},
   "source": [
    "# Calculating error for K values between 1 and 50 to choose the best k value from the graph"
   ]
  },
  {
   "cell_type": "code",
   "execution_count": 210,
   "id": "e9665fa6",
   "metadata": {},
   "outputs": [],
   "source": [
    "error = [] # we will store in this array the accuracy at each K value\n",
    "for i in range(1, 50):\n",
    "     knn = KNeighborsClassifier(n_neighbors=i) # applying KNN at each K value\n",
    "     knn.fit(attributes_train, target_train)\n",
    "     target_pred = knn.predict(attributes_validate) # here we use the validation part, not the testing part\n",
    "        # why used validation part not the testing one?\n",
    "        # because here we are trying to find out the best K value (choosing the best hyperparameter)\n",
    "     error.append(np.mean(target_pred != target_validate))"
   ]
  },
  {
   "cell_type": "code",
   "execution_count": 211,
   "id": "62e651a2",
   "metadata": {},
   "outputs": [
    {
     "data": {
      "text/plain": [
       "Text(0, 0.5, 'Mean Error')"
      ]
     },
     "execution_count": 211,
     "metadata": {},
     "output_type": "execute_result"
    },
    {
     "data": {
      "image/png": "[encoded data removed]",
      "text/plain": [
       "<Figure size 864x432 with 1 Axes>"
      ]
     },
     "metadata": {
      "needs_background": "light"
     },
     "output_type": "display_data"
    }
   ],
   "source": [
    "plt.figure(figsize=(12, 6))\n",
    "plt.plot(range(1, 50), error, color='red', linestyle='dashed', marker='o',\n",
    "markerfacecolor='blue', markersize=10)\n",
    "plt.title('Error Rate K Value')\n",
    "plt.xlabel('K Value')\n",
    "plt.ylabel('Mean Error')"
   ]
  },
  {
   "cell_type": "markdown",
   "id": "73348097",
   "metadata": {},
   "source": [
    "# best k value from the graph is 1"
   ]
  },
  {
   "cell_type": "code",
   "execution_count": 212,
   "id": "8a02cac2",
   "metadata": {},
   "outputs": [],
   "source": [
    "knn = KNeighborsClassifier(n_neighbors=1)\n",
    "knn.fit(attributes_train, target_train)\n",
    "target_pred = knn.predict(attributes_test) # here we use the testing part since the validation part role is over now"
   ]
  },
  {
   "cell_type": "code",
   "execution_count": 213,
   "id": "0344b127",
   "metadata": {},
   "outputs": [
    {
     "name": "stdout",
     "output_type": "stream",
     "text": [
      "Accuracy: 0.9538461538461539\n"
     ]
    }
   ],
   "source": [
    "accuracy = accuracy_score(target_test,target_pred)\n",
    "print(\"Accuracy:\",accuracy)"
   ]
  },
  {
   "cell_type": "code",
   "execution_count": 214,
   "id": "dd648b86",
   "metadata": {},
   "outputs": [
    {
     "name": "stdout",
     "output_type": "stream",
     "text": [
      "Precision: 0.917\n"
     ]
    }
   ],
   "source": [
    "print('Precision: %.3f' % precision_score(target_test, target_pred))"
   ]
  },
  {
   "cell_type": "code",
   "execution_count": 215,
   "id": "0c25f01f",
   "metadata": {},
   "outputs": [
    {
     "name": "stdout",
     "output_type": "stream",
     "text": [
      "Recall: 0.688\n"
     ]
    }
   ],
   "source": [
    "print('Recall: %.3f' % recall_score(target_test, target_pred))"
   ]
  },
  {
   "cell_type": "code",
   "execution_count": 216,
   "id": "614d6bb2",
   "metadata": {},
   "outputs": [
    {
     "name": "stdout",
     "output_type": "stream",
     "text": [
      "F1 Score: 0.786\n"
     ]
    }
   ],
   "source": [
    "print('F1 Score: %.3f' % f1_score(target_test, target_pred))"
   ]
  },
  {
   "cell_type": "code",
   "execution_count": 217,
   "id": "676748d6",
   "metadata": {},
   "outputs": [
    {
     "data": {
      "image/png": "[encoded data removed]",
      "text/plain": [
       "<Figure size 500x500 with 1 Axes>"
      ]
     },
     "metadata": {
      "needs_background": "light"
     },
     "output_type": "display_data"
    }
   ],
   "source": [
    "# lets draw the ROC curve\n",
    "fpr, tpr, threshold = roc_curve(target_test, target_pred) # fpr is the False Positive Rate, tpr is the True Positive Rate\n",
    "auc = auc(fpr, tpr) # auc is the Area Under Curve (by Curve we mean the ROC curve of course)\n",
    "\n",
    "plt.figure(figsize=(5, 5), dpi=100)\n",
    "plt.plot(fpr, tpr, marker='.', label='KNN (AUC = %0.3f)' % auc)\n",
    "\n",
    "plt.xlabel('False Positive Rate')\n",
    "plt.ylabel('True Positive Rate')\n",
    "\n",
    "plt.legend()\n",
    "\n",
    "plt.show()"
   ]
  },
  {
   "cell_type": "markdown",
   "id": "0bdec38c",
   "metadata": {},
   "source": [
    "# NOW WE WILL IMPLEMENT THE LOGISTIC REGRESSION"
   ]
  },
  {
   "cell_type": "code",
   "execution_count": 223,
   "id": "93d65e8e",
   "metadata": {},
   "outputs": [],
   "source": [
    "target_train, target_test = train_test_split(target, test_size = 0.15, train_size = 0.85, random_state = 42, shuffle = True, stratify = None)\n",
    "attributes_train, attributes_test = train_test_split(attributes, test_size = 0.15, train_size = 0.85, random_state = 42, shuffle = True, stratify = None)"
   ]
  },
  {
   "cell_type": "code",
   "execution_count": 224,
   "id": "31bb964b",
   "metadata": {},
   "outputs": [],
   "source": [
    "target_train, target_validate = train_test_split(target_train, test_size = 0.17645, random_state = 42, shuffle = True, stratify = None)\n",
    "attributes_train, attributes_validate = train_test_split(attributes_train, test_size = 0.17645, random_state = 42, shuffle = True, stratify = None)"
   ]
  },
  {
   "cell_type": "code",
   "execution_count": 225,
   "id": "a75dac79",
   "metadata": {},
   "outputs": [],
   "source": [
    "scaler = StandardScaler()\n",
    "scaler.fit(attributes_train)\n",
    "attributes_train = scaler.transform(attributes_train)\n",
    "attributes_validate = scaler.transform(attributes_validate)\n",
    "attributes_test = scaler.transform(attributes_test)"
   ]
  },
  {
   "cell_type": "code",
   "execution_count": 226,
   "id": "718ac16d",
   "metadata": {},
   "outputs": [],
   "source": [
    "# now what are the hyperparameters we are going to focus on in the logistic regression ?\n",
    "# we will have a fixed 'random_state' to start from (5)\n",
    "# we will try out different 'C' values (0.1 & 0.3 & 0.5 & 0.7 & 0.9 & 1.0 & 1.3 & 1.6 & 1.8 & 2.0 & 3.0 & 4.0 & 5.0)\n",
    "# 'C' values indicate the regularization strength (smaller values results in a stronger regularization)"
   ]
  },
  {
   "cell_type": "code",
   "execution_count": 227,
   "id": "b936a00d",
   "metadata": {},
   "outputs": [],
   "source": [
    "C_values = [0.1,0.3,0.5,0.7,0.9,1.0,1.3,1.6,1.8,2.0,3.0,4.0,5.0]"
   ]
  },
  {
   "cell_type": "code",
   "execution_count": 228,
   "id": "47052181",
   "metadata": {},
   "outputs": [],
   "source": [
    "error = []\n",
    "for i in range(13):\n",
    "    logreg = LogisticRegression(random_state = 5, C = C_values[i])\n",
    "    logreg.fit(attributes_train, target_train)\n",
    "    target_pred = logreg.predict(attributes_validate)\n",
    "    error.append(np.mean(target_pred != target_validate))"
   ]
  },
  {
   "cell_type": "code",
   "execution_count": 229,
   "id": "322b3799",
   "metadata": {},
   "outputs": [
    {
     "data": {
      "text/plain": [
       "Text(0, 0.5, 'Mean Error')"
      ]
     },
     "execution_count": 229,
     "metadata": {},
     "output_type": "execute_result"
    },
    {
     "data": {
      "image/png": "[encoded data removed]",
      "text/plain": [
       "<Figure size 864x432 with 1 Axes>"
      ]
     },
     "metadata": {
      "needs_background": "light"
     },
     "output_type": "display_data"
    }
   ],
   "source": [
    "plt.figure(figsize=(12, 6))\n",
    "plt.plot(range(13), error, color='red', linestyle='dashed', marker='o',\n",
    "markerfacecolor='blue', markersize=10)\n",
    "plt.xlabel('C Value Index in C_values')\n",
    "plt.ylabel('Mean Error')"
   ]
  },
  {
   "cell_type": "code",
   "execution_count": 230,
   "id": "559261d4",
   "metadata": {},
   "outputs": [],
   "source": [
    "# so from the graph, we figure out that the best C value possible is any C value index between 7 & 12"
   ]
  },
  {
   "cell_type": "code",
   "execution_count": 231,
   "id": "eb3cf244",
   "metadata": {},
   "outputs": [],
   "source": [
    "logreg = LogisticRegression(random_state = 5, C = C_values[8])\n",
    "logreg.fit(attributes_train, target_train)\n",
    "target_pred = logreg.predict(attributes_test)"
   ]
  },
  {
   "cell_type": "code",
   "execution_count": 232,
   "id": "cccba65f",
   "metadata": {},
   "outputs": [
    {
     "name": "stdout",
     "output_type": "stream",
     "text": [
      "Accuracy: 0.9461538461538461\n"
     ]
    }
   ],
   "source": [
    "accuracy = accuracy_score(target_test,target_pred)\n",
    "print(\"Accuracy:\",accuracy)"
   ]
  },
  {
   "cell_type": "code",
   "execution_count": 233,
   "id": "ad68b3c2",
   "metadata": {},
   "outputs": [
    {
     "name": "stdout",
     "output_type": "stream",
     "text": [
      "Precision: 0.909\n"
     ]
    }
   ],
   "source": [
    "print('Precision: %.3f' % precision_score(target_test, target_pred))"
   ]
  },
  {
   "cell_type": "code",
   "execution_count": 234,
   "id": "5b1e30a2",
   "metadata": {},
   "outputs": [
    {
     "name": "stdout",
     "output_type": "stream",
     "text": [
      "Recall: 0.625\n"
     ]
    }
   ],
   "source": [
    "print('Recall: %.3f' % recall_score(target_test, target_pred))"
   ]
  },
  {
   "cell_type": "code",
   "execution_count": 235,
   "id": "1a4699f9",
   "metadata": {},
   "outputs": [
    {
     "name": "stdout",
     "output_type": "stream",
     "text": [
      "F1 Score: 0.741\n"
     ]
    }
   ],
   "source": [
    "print('F1 Score: %.3f' % f1_score(target_test, target_pred))"
   ]
  },
  {
   "cell_type": "code",
   "execution_count": 236,
   "id": "ba33e85d",
   "metadata": {},
   "outputs": [
    {
     "data": {
      "image/png": "[encoded data removed]",
      "text/plain": [
       "<Figure size 500x500 with 1 Axes>"
      ]
     },
     "metadata": {
      "needs_background": "light"
     },
     "output_type": "display_data"
    }
   ],
   "source": [
    "fpr, tpr, threshold = roc_curve(target_test, target_pred)\n",
    "auc = auc(fpr, tpr)\n",
    "\n",
    "plt.figure(figsize=(5, 5), dpi=100)\n",
    "plt.plot(fpr, tpr, marker='.', label='Logistic Regression (AUC = %0.3f)' % auc)\n",
    "\n",
    "plt.xlabel('False Positive Rate')\n",
    "plt.ylabel('True Positive Rate')\n",
    "\n",
    "plt.legend()\n",
    "\n",
    "plt.show()"
   ]
  },
  {
   "cell_type": "markdown",
   "id": "1557fcb9",
   "metadata": {},
   "source": [
    "# NOW WE WILL IMPLEMENT THE NAIVE BAYES"
   ]
  },
  {
   "cell_type": "code",
   "execution_count": 242,
   "id": "669563b5",
   "metadata": {},
   "outputs": [],
   "source": [
    "target_train, target_test = train_test_split(target, test_size = 0.15, train_size = 0.85, random_state = 42, shuffle = True, stratify = None)\n",
    "attributes_train, attributes_test = train_test_split(attributes, test_size = 0.15, train_size = 0.85, random_state = 42, shuffle = True, stratify = None)"
   ]
  },
  {
   "cell_type": "code",
   "execution_count": 243,
   "id": "e1b05c52",
   "metadata": {},
   "outputs": [],
   "source": [
    "target_train, target_validate = train_test_split(target_train, test_size = 0.17645, random_state = 42, shuffle = True, stratify = None)\n",
    "attributes_train, attributes_validate = train_test_split(attributes_train, test_size = 0.17645, random_state = 42, shuffle = True, stratify = None)"
   ]
  },
  {
   "cell_type": "code",
   "execution_count": 244,
   "id": "2a5e2250",
   "metadata": {},
   "outputs": [],
   "source": [
    "# now what are the hyperparameters we are going to focus on in the naive bayes ?\n",
    "# we will focus on \"var_smoothing\", we will try out different var_smoothing values\n",
    "# var_smoothing is the portion of the biggest variance of all attributes added to variances to achieve stability in calculation"
   ]
  },
  {
   "cell_type": "code",
   "execution_count": 245,
   "id": "20f633c0",
   "metadata": {},
   "outputs": [],
   "source": [
    "var_values = [1e-8,1e-9,1e-10,5e-8,5e-9,5e-10]"
   ]
  },
  {
   "cell_type": "code",
   "execution_count": 246,
   "id": "5cb6c149",
   "metadata": {},
   "outputs": [],
   "source": [
    "error = []\n",
    "for i in range(6):\n",
    "    naive = GaussianNB(var_smoothing = var_values[i])\n",
    "    naive.fit(attributes_train, target_train)\n",
    "    target_pred = naive.predict(attributes_validate)\n",
    "    error.append(np.mean(target_pred != target_validate))"
   ]
  },
  {
   "cell_type": "code",
   "execution_count": 247,
   "id": "c5f57314",
   "metadata": {},
   "outputs": [
    {
     "data": {
      "text/plain": [
       "Text(0, 0.5, 'Mean Error')"
      ]
     },
     "execution_count": 247,
     "metadata": {},
     "output_type": "execute_result"
    },
    {
     "data": {
      "image/png": "[encoded data removed]",
      "text/plain": [
       "<Figure size 864x432 with 1 Axes>"
      ]
     },
     "metadata": {
      "needs_background": "light"
     },
     "output_type": "display_data"
    }
   ],
   "source": [
    "plt.figure(figsize=(12, 6))\n",
    "plt.plot(range(6), error, color='red', linestyle='dashed', marker='o',\n",
    "markerfacecolor='blue', markersize=10)\n",
    "plt.xlabel('var_smoothing Value Index in var_values')\n",
    "plt.ylabel('Mean Error')"
   ]
  },
  {
   "cell_type": "code",
   "execution_count": 248,
   "id": "64ce04ae",
   "metadata": {},
   "outputs": [],
   "source": [
    "# so from the graph, we figure out that the best var_smoothing value possible is the var value at index 3"
   ]
  },
  {
   "cell_type": "code",
   "execution_count": 249,
   "id": "d2406507",
   "metadata": {},
   "outputs": [],
   "source": [
    "naive = GaussianNB(var_smoothing = var_values[3])\n",
    "naive.fit(attributes_train, target_train)\n",
    "target_pred = naive.predict(attributes_validate)"
   ]
  },
  {
   "cell_type": "code",
   "execution_count": 250,
   "id": "f69dcc36",
   "metadata": {},
   "outputs": [
    {
     "name": "stdout",
     "output_type": "stream",
     "text": [
      "Accuracy: 0.6692307692307692\n"
     ]
    }
   ],
   "source": [
    "accuracy = accuracy_score(target_test,target_pred)\n",
    "print(\"Accuracy:\",accuracy)"
   ]
  },
  {
   "cell_type": "code",
   "execution_count": 251,
   "id": "5b5a2209",
   "metadata": {},
   "outputs": [
    {
     "name": "stdout",
     "output_type": "stream",
     "text": [
      "Precision: 0.135\n"
     ]
    }
   ],
   "source": [
    "print('Precision: %.3f' % precision_score(target_test, target_pred))"
   ]
  },
  {
   "cell_type": "code",
   "execution_count": 252,
   "id": "abe27b4f",
   "metadata": {},
   "outputs": [
    {
     "name": "stdout",
     "output_type": "stream",
     "text": [
      "Recall: 0.312\n"
     ]
    }
   ],
   "source": [
    "print('Recall: %.3f' % recall_score(target_test, target_pred))"
   ]
  },
  {
   "cell_type": "code",
   "execution_count": 253,
   "id": "54d92cec",
   "metadata": {},
   "outputs": [
    {
     "name": "stdout",
     "output_type": "stream",
     "text": [
      "F1 Score: 0.189\n"
     ]
    }
   ],
   "source": [
    "print('F1 Score: %.3f' % f1_score(target_test, target_pred))"
   ]
  },
  {
   "cell_type": "code",
   "execution_count": 254,
   "id": "0c2298bc",
   "metadata": {},
   "outputs": [
    {
     "data": {
      "image/png": "[encoded data removed]",
      "text/plain": [
       "<Figure size 500x500 with 1 Axes>"
      ]
     },
     "metadata": {
      "needs_background": "light"
     },
     "output_type": "display_data"
    }
   ],
   "source": [
    "fpr, tpr, threshold = roc_curve(target_test, target_pred)\n",
    "auc = auc(fpr, tpr)\n",
    "\n",
    "plt.figure(figsize=(5, 5), dpi=100)\n",
    "plt.plot(fpr, tpr, marker='.', label='Naive Bayes (AUC = %0.3f)' % auc)\n",
    "\n",
    "plt.xlabel('False Positive Rate')\n",
    "plt.ylabel('True Positive Rate')\n",
    "\n",
    "plt.legend()\n",
    "\n",
    "plt.show()"
   ]
  },
  {
   "cell_type": "code",
   "execution_count": null,
   "id": "ab04e2f9",
   "metadata": {},
   "outputs": [],
   "source": []
  }
 ],
 "metadata": {
  "kernelspec": {
   "display_name": "Python 3",
   "language": "python",
   "name": "python3"
  },
  "language_info": {
   "codemirror_mode": {
    "name": "ipython",
    "version": 3
   },
   "file_extension": ".py",
   "mimetype": "text/x-python",
   "name": "python",
   "nbconvert_exporter": "python",
   "pygments_lexer": "ipython3",
   "version": "3.8.8"
  }
 },
 "nbformat": 4,
 "nbformat_minor": 5
}
